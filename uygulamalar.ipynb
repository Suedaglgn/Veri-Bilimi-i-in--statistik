{
 "cells": [
  {
   "cell_type": "markdown",
   "source": [
    "## İş Uygulaması: Fiyat Stratejisi Karar Destek\n",
    "\n",
    "Problem: Fiyat belirleme konusunda bilimsel bir dayanak isteniyor.\n",
    "Detay: Satıcı, alıcı ve bir ürün var.\n",
    "Alıcılara ürüne ne kadar ücret öderdiniz diye ssoruluyor.\n",
    "Optimum fiyat bilimsel ve esnek olarak bulunmak isteniyor."
   ],
   "metadata": {
    "collapsed": false
   }
  },
  {
   "cell_type": "code",
   "execution_count": 22,
   "outputs": [],
   "source": [
    "import numpy as np\n",
    "fiyatlar = np.random.randint(10,110, 1000)"
   ],
   "metadata": {
    "collapsed": false
   }
  },
  {
   "cell_type": "code",
   "execution_count": 23,
   "outputs": [
    {
     "data": {
      "text/plain": [
       "58.492"
      ]
     },
     "execution_count": 23,
     "metadata": {},
     "output_type": "execute_result"
    }
   ],
   "source": [
    "fiyatlar.mean()"
   ],
   "metadata": {
    "collapsed": false
   }
  },
  {
   "cell_type": "code",
   "execution_count": 25,
   "outputs": [],
   "source": [
    "import statsmodels.stats.api as sms"
   ],
   "metadata": {
    "collapsed": false
   }
  },
  {
   "cell_type": "code",
   "execution_count": 26,
   "outputs": [
    {
     "data": {
      "text/plain": [
       "(56.67953887736034, 60.30446112263965)"
      ]
     },
     "execution_count": 26,
     "metadata": {},
     "output_type": "execute_result"
    }
   ],
   "source": [
    "sms.DescrStatsW(fiyatlar).tconfint_mean()"
   ],
   "metadata": {
    "collapsed": false
   }
  },
  {
   "cell_type": "code",
   "execution_count": 27,
   "outputs": [
    {
     "name": "stdout",
     "output_type": "stream",
     "text": [
      "O program öğrenilecek\n"
     ]
    }
   ],
   "source": [
    "def yazdir(metin):\n",
    "    print(metin, \"program öğrenilecek\")\n",
    "\n",
    "yazdir(\"O\")"
   ],
   "metadata": {
    "collapsed": false
   }
  },
  {
   "cell_type": "code",
   "execution_count": 28,
   "outputs": [
    {
     "name": "stdout",
     "output_type": "stream",
     "text": [
      "metin program öğrenilecek\n"
     ]
    }
   ],
   "source": [
    "print(\"metin\", \"program öğrenilecek\")"
   ],
   "metadata": {
    "collapsed": false
   }
  },
  {
   "cell_type": "markdown",
   "source": [
    "## Reklam Harcama Optimizasyonu\n",
    "\n",
    "Dağılım ve reklama tıklama olasılığı biliniyor.(0,01)\n",
    "Reklamı 100 kişi gördüğünde 1,5,10 tıklanması olasılığı nedir?"
   ],
   "metadata": {
    "collapsed": false
   }
  },
  {
   "cell_type": "markdown",
   "source": [
    "Formüle göre;\n",
    "f(1;100,0.01) = 0.37\n",
    "f(5;100,0.01) = 0.00289779\n",
    "f(10;100,0.01) = 0.00000007"
   ],
   "metadata": {
    "collapsed": false
   }
  },
  {
   "cell_type": "code",
   "execution_count": 1,
   "outputs": [],
   "source": [
    "from scipy.stats import binom"
   ],
   "metadata": {
    "collapsed": false
   }
  },
  {
   "cell_type": "code",
   "execution_count": 2,
   "outputs": [
    {
     "name": "stdout",
     "output_type": "stream",
     "text": [
      "0.36972963764972666\n",
      "0.002897787123761478\n",
      "7.006035693977194e-08\n"
     ]
    }
   ],
   "source": [
    "p = 0.01\n",
    "n = 100\n",
    "rv = binom(n, p)\n",
    "print(rv.pmf(1))\n",
    "print(rv.pmf(5))\n",
    "print(rv.pmf(10))"
   ],
   "metadata": {
    "collapsed": false
   }
  },
  {
   "cell_type": "markdown",
   "source": [
    "## İlan Girişi Hata Olasılıklarının Hesaplanması\n",
    "1 yıl boyunca ölçüm yapılmış.\n",
    "Poiison dağılımı olduğu ve Lambda 0.1 (ortalama hata sayısı) biliniyor.\n",
    "Hiç hata olmaması, 3 ve 5 hata olma olasılıkları nedir?"
   ],
   "metadata": {
    "collapsed": false
   }
  },
  {
   "cell_type": "code",
   "execution_count": 3,
   "outputs": [],
   "source": [
    "from scipy.stats import poisson\n",
    "lambda_ = 0.1\n",
    "rv = poisson(mu = lambda_)"
   ],
   "metadata": {
    "collapsed": false
   }
  },
  {
   "cell_type": "code",
   "execution_count": 4,
   "outputs": [
    {
     "name": "stdout",
     "output_type": "stream",
     "text": [
      "0.9048374180359595\n",
      "0.00015080623633932676\n",
      "7.54031181696634e-08\n"
     ]
    }
   ],
   "source": [
    "print(rv.pmf(k=0))\n",
    "print(rv.pmf(k=3))\n",
    "print(rv.pmf(k=5))"
   ],
   "metadata": {
    "collapsed": false
   }
  },
  {
   "cell_type": "markdown",
   "source": [
    "## Satış olasılıklarının Hesaplanması\n",
    "Dağılımın normal olduğu biliniyor.\n",
    "Aylık ortalama satış sayısı 80K, standart sapma 5K\n",
    "90K'dan fazla satış yapma olasılığı nedir?"
   ],
   "metadata": {
    "collapsed": false
   }
  },
  {
   "cell_type": "code",
   "execution_count": 6,
   "outputs": [],
   "source": [
    "from scipy.stats import norm"
   ],
   "metadata": {
    "collapsed": false
   }
  },
  {
   "cell_type": "code",
   "execution_count": 7,
   "outputs": [
    {
     "name": "stdout",
     "output_type": "stream",
     "text": [
      "0.02275013194817921\n",
      "0.9772498680518208\n",
      "0.08075665923377107\n",
      "0.13590512198327787\n"
     ]
    }
   ],
   "source": [
    "# cdf: cumulative dist. func. -> 90'dan büyük derken bir alandan bahsediyoruz bu yüzden kümülatif\n",
    "print(1-norm.cdf(90, 80, 5))\n",
    "print(1-norm.cdf(70, 80, 5))\n",
    "print(norm.cdf(73, 80, 5))\n",
    "print(norm.cdf(90, 80, 5)-norm.cdf(85, 80, 5))"
   ],
   "metadata": {
    "collapsed": false
   }
  },
  {
   "cell_type": "code",
   "execution_count": null,
   "outputs": [],
   "source": [],
   "metadata": {
    "collapsed": false
   }
  }
 ],
 "metadata": {
  "kernelspec": {
   "display_name": "Python 3",
   "language": "python",
   "name": "python3"
  },
  "language_info": {
   "codemirror_mode": {
    "name": "ipython",
    "version": 2
   },
   "file_extension": ".py",
   "mimetype": "text/x-python",
   "name": "python",
   "nbconvert_exporter": "python",
   "pygments_lexer": "ipython2",
   "version": "2.7.6"
  }
 },
 "nbformat": 4,
 "nbformat_minor": 0
}
